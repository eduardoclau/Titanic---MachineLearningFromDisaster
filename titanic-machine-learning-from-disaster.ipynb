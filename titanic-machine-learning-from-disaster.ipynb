{
 "cells": [
  {
   "cell_type": "code",
   "execution_count": 1,
   "id": "62488acf",
   "metadata": {
    "execution": {
     "iopub.execute_input": "2023-11-15T19:27:23.765974Z",
     "iopub.status.busy": "2023-11-15T19:27:23.765255Z",
     "iopub.status.idle": "2023-11-15T19:27:26.514196Z",
     "shell.execute_reply": "2023-11-15T19:27:26.512706Z"
    },
    "papermill": {
     "duration": 2.767722,
     "end_time": "2023-11-15T19:27:26.517584",
     "exception": false,
     "start_time": "2023-11-15T19:27:23.749862",
     "status": "completed"
    },
    "tags": []
   },
   "outputs": [],
   "source": [
    "import pandas as pd\n",
    "import numpy as np\n",
    "import seaborn as sns"
   ]
  },
  {
   "cell_type": "markdown",
   "id": "d2c46216",
   "metadata": {
    "papermill": {
     "duration": 0.01321,
     "end_time": "2023-11-15T19:27:26.544268",
     "exception": false,
     "start_time": "2023-11-15T19:27:26.531058",
     "status": "completed"
    },
    "tags": []
   },
   "source": [
    "# DATASET"
   ]
  },
  {
   "cell_type": "code",
   "execution_count": 2,
   "id": "b05da394",
   "metadata": {
    "execution": {
     "iopub.execute_input": "2023-11-15T19:27:26.573047Z",
     "iopub.status.busy": "2023-11-15T19:27:26.572340Z",
     "iopub.status.idle": "2023-11-15T19:27:26.606808Z",
     "shell.execute_reply": "2023-11-15T19:27:26.605377Z"
    },
    "papermill": {
     "duration": 0.05235,
     "end_time": "2023-11-15T19:27:26.609994",
     "exception": false,
     "start_time": "2023-11-15T19:27:26.557644",
     "status": "completed"
    },
    "tags": []
   },
   "outputs": [],
   "source": [
    "train = pd.read_csv('/kaggle/input/titanic/train.csv')\n",
    "test = pd.read_csv('/kaggle/input/titanic/test.csv')"
   ]
  },
  {
   "cell_type": "markdown",
   "id": "0a0a86e1",
   "metadata": {
    "papermill": {
     "duration": 0.013108,
     "end_time": "2023-11-15T19:27:26.636255",
     "exception": false,
     "start_time": "2023-11-15T19:27:26.623147",
     "status": "completed"
    },
    "tags": []
   },
   "source": [
    "# Código & Análise Exploratória de Dados"
   ]
  },
  {
   "cell_type": "code",
   "execution_count": 3,
   "id": "fdf99673",
   "metadata": {
    "execution": {
     "iopub.execute_input": "2023-11-15T19:27:26.665152Z",
     "iopub.status.busy": "2023-11-15T19:27:26.664685Z",
     "iopub.status.idle": "2023-11-15T19:27:26.699390Z",
     "shell.execute_reply": "2023-11-15T19:27:26.698180Z"
    },
    "papermill": {
     "duration": 0.052951,
     "end_time": "2023-11-15T19:27:26.702567",
     "exception": false,
     "start_time": "2023-11-15T19:27:26.649616",
     "status": "completed"
    },
    "tags": []
   },
   "outputs": [
    {
     "data": {
      "text/html": [
       "<div>\n",
       "<style scoped>\n",
       "    .dataframe tbody tr th:only-of-type {\n",
       "        vertical-align: middle;\n",
       "    }\n",
       "\n",
       "    .dataframe tbody tr th {\n",
       "        vertical-align: top;\n",
       "    }\n",
       "\n",
       "    .dataframe thead th {\n",
       "        text-align: right;\n",
       "    }\n",
       "</style>\n",
       "<table border=\"1\" class=\"dataframe\">\n",
       "  <thead>\n",
       "    <tr style=\"text-align: right;\">\n",
       "      <th></th>\n",
       "      <th>PassengerId</th>\n",
       "      <th>Survived</th>\n",
       "      <th>Pclass</th>\n",
       "      <th>Name</th>\n",
       "      <th>Sex</th>\n",
       "      <th>Age</th>\n",
       "      <th>SibSp</th>\n",
       "      <th>Parch</th>\n",
       "      <th>Ticket</th>\n",
       "      <th>Fare</th>\n",
       "      <th>Cabin</th>\n",
       "      <th>Embarked</th>\n",
       "    </tr>\n",
       "  </thead>\n",
       "  <tbody>\n",
       "    <tr>\n",
       "      <th>0</th>\n",
       "      <td>1</td>\n",
       "      <td>0</td>\n",
       "      <td>3</td>\n",
       "      <td>Braund, Mr. Owen Harris</td>\n",
       "      <td>male</td>\n",
       "      <td>22.0</td>\n",
       "      <td>1</td>\n",
       "      <td>0</td>\n",
       "      <td>A/5 21171</td>\n",
       "      <td>7.2500</td>\n",
       "      <td>NaN</td>\n",
       "      <td>S</td>\n",
       "    </tr>\n",
       "    <tr>\n",
       "      <th>1</th>\n",
       "      <td>2</td>\n",
       "      <td>1</td>\n",
       "      <td>1</td>\n",
       "      <td>Cumings, Mrs. John Bradley (Florence Briggs Th...</td>\n",
       "      <td>female</td>\n",
       "      <td>38.0</td>\n",
       "      <td>1</td>\n",
       "      <td>0</td>\n",
       "      <td>PC 17599</td>\n",
       "      <td>71.2833</td>\n",
       "      <td>C85</td>\n",
       "      <td>C</td>\n",
       "    </tr>\n",
       "    <tr>\n",
       "      <th>2</th>\n",
       "      <td>3</td>\n",
       "      <td>1</td>\n",
       "      <td>3</td>\n",
       "      <td>Heikkinen, Miss. Laina</td>\n",
       "      <td>female</td>\n",
       "      <td>26.0</td>\n",
       "      <td>0</td>\n",
       "      <td>0</td>\n",
       "      <td>STON/O2. 3101282</td>\n",
       "      <td>7.9250</td>\n",
       "      <td>NaN</td>\n",
       "      <td>S</td>\n",
       "    </tr>\n",
       "    <tr>\n",
       "      <th>3</th>\n",
       "      <td>4</td>\n",
       "      <td>1</td>\n",
       "      <td>1</td>\n",
       "      <td>Futrelle, Mrs. Jacques Heath (Lily May Peel)</td>\n",
       "      <td>female</td>\n",
       "      <td>35.0</td>\n",
       "      <td>1</td>\n",
       "      <td>0</td>\n",
       "      <td>113803</td>\n",
       "      <td>53.1000</td>\n",
       "      <td>C123</td>\n",
       "      <td>S</td>\n",
       "    </tr>\n",
       "    <tr>\n",
       "      <th>4</th>\n",
       "      <td>5</td>\n",
       "      <td>0</td>\n",
       "      <td>3</td>\n",
       "      <td>Allen, Mr. William Henry</td>\n",
       "      <td>male</td>\n",
       "      <td>35.0</td>\n",
       "      <td>0</td>\n",
       "      <td>0</td>\n",
       "      <td>373450</td>\n",
       "      <td>8.0500</td>\n",
       "      <td>NaN</td>\n",
       "      <td>S</td>\n",
       "    </tr>\n",
       "    <tr>\n",
       "      <th>5</th>\n",
       "      <td>6</td>\n",
       "      <td>0</td>\n",
       "      <td>3</td>\n",
       "      <td>Moran, Mr. James</td>\n",
       "      <td>male</td>\n",
       "      <td>NaN</td>\n",
       "      <td>0</td>\n",
       "      <td>0</td>\n",
       "      <td>330877</td>\n",
       "      <td>8.4583</td>\n",
       "      <td>NaN</td>\n",
       "      <td>Q</td>\n",
       "    </tr>\n",
       "    <tr>\n",
       "      <th>6</th>\n",
       "      <td>7</td>\n",
       "      <td>0</td>\n",
       "      <td>1</td>\n",
       "      <td>McCarthy, Mr. Timothy J</td>\n",
       "      <td>male</td>\n",
       "      <td>54.0</td>\n",
       "      <td>0</td>\n",
       "      <td>0</td>\n",
       "      <td>17463</td>\n",
       "      <td>51.8625</td>\n",
       "      <td>E46</td>\n",
       "      <td>S</td>\n",
       "    </tr>\n",
       "    <tr>\n",
       "      <th>7</th>\n",
       "      <td>8</td>\n",
       "      <td>0</td>\n",
       "      <td>3</td>\n",
       "      <td>Palsson, Master. Gosta Leonard</td>\n",
       "      <td>male</td>\n",
       "      <td>2.0</td>\n",
       "      <td>3</td>\n",
       "      <td>1</td>\n",
       "      <td>349909</td>\n",
       "      <td>21.0750</td>\n",
       "      <td>NaN</td>\n",
       "      <td>S</td>\n",
       "    </tr>\n",
       "    <tr>\n",
       "      <th>8</th>\n",
       "      <td>9</td>\n",
       "      <td>1</td>\n",
       "      <td>3</td>\n",
       "      <td>Johnson, Mrs. Oscar W (Elisabeth Vilhelmina Berg)</td>\n",
       "      <td>female</td>\n",
       "      <td>27.0</td>\n",
       "      <td>0</td>\n",
       "      <td>2</td>\n",
       "      <td>347742</td>\n",
       "      <td>11.1333</td>\n",
       "      <td>NaN</td>\n",
       "      <td>S</td>\n",
       "    </tr>\n",
       "    <tr>\n",
       "      <th>9</th>\n",
       "      <td>10</td>\n",
       "      <td>1</td>\n",
       "      <td>2</td>\n",
       "      <td>Nasser, Mrs. Nicholas (Adele Achem)</td>\n",
       "      <td>female</td>\n",
       "      <td>14.0</td>\n",
       "      <td>1</td>\n",
       "      <td>0</td>\n",
       "      <td>237736</td>\n",
       "      <td>30.0708</td>\n",
       "      <td>NaN</td>\n",
       "      <td>C</td>\n",
       "    </tr>\n",
       "  </tbody>\n",
       "</table>\n",
       "</div>"
      ],
      "text/plain": [
       "   PassengerId  Survived  Pclass  \\\n",
       "0            1         0       3   \n",
       "1            2         1       1   \n",
       "2            3         1       3   \n",
       "3            4         1       1   \n",
       "4            5         0       3   \n",
       "5            6         0       3   \n",
       "6            7         0       1   \n",
       "7            8         0       3   \n",
       "8            9         1       3   \n",
       "9           10         1       2   \n",
       "\n",
       "                                                Name     Sex   Age  SibSp  \\\n",
       "0                            Braund, Mr. Owen Harris    male  22.0      1   \n",
       "1  Cumings, Mrs. John Bradley (Florence Briggs Th...  female  38.0      1   \n",
       "2                             Heikkinen, Miss. Laina  female  26.0      0   \n",
       "3       Futrelle, Mrs. Jacques Heath (Lily May Peel)  female  35.0      1   \n",
       "4                           Allen, Mr. William Henry    male  35.0      0   \n",
       "5                                   Moran, Mr. James    male   NaN      0   \n",
       "6                            McCarthy, Mr. Timothy J    male  54.0      0   \n",
       "7                     Palsson, Master. Gosta Leonard    male   2.0      3   \n",
       "8  Johnson, Mrs. Oscar W (Elisabeth Vilhelmina Berg)  female  27.0      0   \n",
       "9                Nasser, Mrs. Nicholas (Adele Achem)  female  14.0      1   \n",
       "\n",
       "   Parch            Ticket     Fare Cabin Embarked  \n",
       "0      0         A/5 21171   7.2500   NaN        S  \n",
       "1      0          PC 17599  71.2833   C85        C  \n",
       "2      0  STON/O2. 3101282   7.9250   NaN        S  \n",
       "3      0            113803  53.1000  C123        S  \n",
       "4      0            373450   8.0500   NaN        S  \n",
       "5      0            330877   8.4583   NaN        Q  \n",
       "6      0             17463  51.8625   E46        S  \n",
       "7      1            349909  21.0750   NaN        S  \n",
       "8      2            347742  11.1333   NaN        S  \n",
       "9      0            237736  30.0708   NaN        C  "
      ]
     },
     "execution_count": 3,
     "metadata": {},
     "output_type": "execute_result"
    }
   ],
   "source": [
    "train.head(10)"
   ]
  },
  {
   "cell_type": "code",
   "execution_count": 4,
   "id": "293aa51e",
   "metadata": {
    "execution": {
     "iopub.execute_input": "2023-11-15T19:27:26.732852Z",
     "iopub.status.busy": "2023-11-15T19:27:26.732353Z",
     "iopub.status.idle": "2023-11-15T19:27:26.765933Z",
     "shell.execute_reply": "2023-11-15T19:27:26.764719Z"
    },
    "papermill": {
     "duration": 0.052184,
     "end_time": "2023-11-15T19:27:26.768974",
     "exception": false,
     "start_time": "2023-11-15T19:27:26.716790",
     "status": "completed"
    },
    "tags": []
   },
   "outputs": [
    {
     "name": "stdout",
     "output_type": "stream",
     "text": [
      "<class 'pandas.core.frame.DataFrame'>\n",
      "RangeIndex: 891 entries, 0 to 890\n",
      "Data columns (total 12 columns):\n",
      " #   Column       Non-Null Count  Dtype  \n",
      "---  ------       --------------  -----  \n",
      " 0   PassengerId  891 non-null    int64  \n",
      " 1   Survived     891 non-null    int64  \n",
      " 2   Pclass       891 non-null    int64  \n",
      " 3   Name         891 non-null    object \n",
      " 4   Sex          891 non-null    object \n",
      " 5   Age          714 non-null    float64\n",
      " 6   SibSp        891 non-null    int64  \n",
      " 7   Parch        891 non-null    int64  \n",
      " 8   Ticket       891 non-null    object \n",
      " 9   Fare         891 non-null    float64\n",
      " 10  Cabin        204 non-null    object \n",
      " 11  Embarked     889 non-null    object \n",
      "dtypes: float64(2), int64(5), object(5)\n",
      "memory usage: 83.7+ KB\n"
     ]
    }
   ],
   "source": [
    "train.info()"
   ]
  },
  {
   "cell_type": "code",
   "execution_count": 5,
   "id": "0581d865",
   "metadata": {
    "execution": {
     "iopub.execute_input": "2023-11-15T19:27:26.798645Z",
     "iopub.status.busy": "2023-11-15T19:27:26.797983Z",
     "iopub.status.idle": "2023-11-15T19:27:26.810572Z",
     "shell.execute_reply": "2023-11-15T19:27:26.809721Z"
    },
    "papermill": {
     "duration": 0.030739,
     "end_time": "2023-11-15T19:27:26.813285",
     "exception": false,
     "start_time": "2023-11-15T19:27:26.782546",
     "status": "completed"
    },
    "tags": []
   },
   "outputs": [
    {
     "data": {
      "text/plain": [
       "38.38383838383838"
      ]
     },
     "execution_count": 5,
     "metadata": {},
     "output_type": "execute_result"
    }
   ],
   "source": [
    "mean = train.Survived.describe()['mean']*100\n",
    "mean"
   ]
  },
  {
   "cell_type": "markdown",
   "id": "2e8150fc",
   "metadata": {
    "papermill": {
     "duration": 0.01479,
     "end_time": "2023-11-15T19:27:26.845804",
     "exception": false,
     "start_time": "2023-11-15T19:27:26.831014",
     "status": "completed"
    },
    "tags": []
   },
   "source": [
    "# Dataframe para entender quais tipos de dados estamos trabalhando e também os valores missing no Dataset Train"
   ]
  },
  {
   "cell_type": "code",
   "execution_count": 6,
   "id": "288ecee3",
   "metadata": {
    "execution": {
     "iopub.execute_input": "2023-11-15T19:27:26.880979Z",
     "iopub.status.busy": "2023-11-15T19:27:26.880111Z",
     "iopub.status.idle": "2023-11-15T19:27:26.904097Z",
     "shell.execute_reply": "2023-11-15T19:27:26.901756Z"
    },
    "papermill": {
     "duration": 0.044635,
     "end_time": "2023-11-15T19:27:26.907650",
     "exception": false,
     "start_time": "2023-11-15T19:27:26.863015",
     "status": "completed"
    },
    "tags": []
   },
   "outputs": [
    {
     "data": {
      "text/html": [
       "<div>\n",
       "<style scoped>\n",
       "    .dataframe tbody tr th:only-of-type {\n",
       "        vertical-align: middle;\n",
       "    }\n",
       "\n",
       "    .dataframe tbody tr th {\n",
       "        vertical-align: top;\n",
       "    }\n",
       "\n",
       "    .dataframe thead th {\n",
       "        text-align: right;\n",
       "    }\n",
       "</style>\n",
       "<table border=\"1\" class=\"dataframe\">\n",
       "  <thead>\n",
       "    <tr style=\"text-align: right;\">\n",
       "      <th></th>\n",
       "      <th>Colunas</th>\n",
       "      <th>Tipos</th>\n",
       "      <th>Percentual_faltantes</th>\n",
       "    </tr>\n",
       "  </thead>\n",
       "  <tbody>\n",
       "    <tr>\n",
       "      <th>PassengerId</th>\n",
       "      <td>PassengerId</td>\n",
       "      <td>int64</td>\n",
       "      <td>0.000000</td>\n",
       "    </tr>\n",
       "    <tr>\n",
       "      <th>Survived</th>\n",
       "      <td>Survived</td>\n",
       "      <td>int64</td>\n",
       "      <td>0.000000</td>\n",
       "    </tr>\n",
       "    <tr>\n",
       "      <th>Pclass</th>\n",
       "      <td>Pclass</td>\n",
       "      <td>int64</td>\n",
       "      <td>0.000000</td>\n",
       "    </tr>\n",
       "    <tr>\n",
       "      <th>Name</th>\n",
       "      <td>Name</td>\n",
       "      <td>object</td>\n",
       "      <td>0.000000</td>\n",
       "    </tr>\n",
       "    <tr>\n",
       "      <th>Sex</th>\n",
       "      <td>Sex</td>\n",
       "      <td>object</td>\n",
       "      <td>0.000000</td>\n",
       "    </tr>\n",
       "    <tr>\n",
       "      <th>Age</th>\n",
       "      <td>Age</td>\n",
       "      <td>float64</td>\n",
       "      <td>0.198653</td>\n",
       "    </tr>\n",
       "    <tr>\n",
       "      <th>SibSp</th>\n",
       "      <td>SibSp</td>\n",
       "      <td>int64</td>\n",
       "      <td>0.000000</td>\n",
       "    </tr>\n",
       "    <tr>\n",
       "      <th>Parch</th>\n",
       "      <td>Parch</td>\n",
       "      <td>int64</td>\n",
       "      <td>0.000000</td>\n",
       "    </tr>\n",
       "    <tr>\n",
       "      <th>Ticket</th>\n",
       "      <td>Ticket</td>\n",
       "      <td>object</td>\n",
       "      <td>0.000000</td>\n",
       "    </tr>\n",
       "    <tr>\n",
       "      <th>Fare</th>\n",
       "      <td>Fare</td>\n",
       "      <td>float64</td>\n",
       "      <td>0.000000</td>\n",
       "    </tr>\n",
       "    <tr>\n",
       "      <th>Cabin</th>\n",
       "      <td>Cabin</td>\n",
       "      <td>object</td>\n",
       "      <td>0.771044</td>\n",
       "    </tr>\n",
       "    <tr>\n",
       "      <th>Embarked</th>\n",
       "      <td>Embarked</td>\n",
       "      <td>object</td>\n",
       "      <td>0.002245</td>\n",
       "    </tr>\n",
       "  </tbody>\n",
       "</table>\n",
       "</div>"
      ],
      "text/plain": [
       "                 Colunas    Tipos  Percentual_faltantes\n",
       "PassengerId  PassengerId    int64              0.000000\n",
       "Survived        Survived    int64              0.000000\n",
       "Pclass            Pclass    int64              0.000000\n",
       "Name                Name   object              0.000000\n",
       "Sex                  Sex   object              0.000000\n",
       "Age                  Age  float64              0.198653\n",
       "SibSp              SibSp    int64              0.000000\n",
       "Parch              Parch    int64              0.000000\n",
       "Ticket            Ticket   object              0.000000\n",
       "Fare                Fare  float64              0.000000\n",
       "Cabin              Cabin   object              0.771044\n",
       "Embarked        Embarked   object              0.002245"
      ]
     },
     "execution_count": 6,
     "metadata": {},
     "output_type": "execute_result"
    }
   ],
   "source": [
    "aux_train = pd.DataFrame({'Colunas': train.columns,\n",
    "                       'Tipos': train.dtypes,\n",
    "                       'Percentual_faltantes': train.isna().sum() / train.shape[0]})\n",
    "aux_train\n"
   ]
  },
  {
   "cell_type": "markdown",
   "id": "1dbbc8a3",
   "metadata": {
    "papermill": {
     "duration": 0.01724,
     "end_time": "2023-11-15T19:27:26.948228",
     "exception": false,
     "start_time": "2023-11-15T19:27:26.930988",
     "status": "completed"
    },
    "tags": []
   },
   "source": [
    "**Conforme o output acima, percebe-se que Age, Cabin e Embarked possuem dados nulos (diferente de 0.0)**"
   ]
  },
  {
   "cell_type": "markdown",
   "id": "81fb7374",
   "metadata": {
    "papermill": {
     "duration": 0.016768,
     "end_time": "2023-11-15T19:27:26.986952",
     "exception": false,
     "start_time": "2023-11-15T19:27:26.970184",
     "status": "completed"
    },
    "tags": []
   },
   "source": [
    "# Dataframe para entender quais tipos de dados estamos trabalhando e também os valores missing no Dataset Test¶"
   ]
  },
  {
   "cell_type": "code",
   "execution_count": 7,
   "id": "2c28f8ec",
   "metadata": {
    "execution": {
     "iopub.execute_input": "2023-11-15T19:27:27.018982Z",
     "iopub.status.busy": "2023-11-15T19:27:27.017486Z",
     "iopub.status.idle": "2023-11-15T19:27:27.036715Z",
     "shell.execute_reply": "2023-11-15T19:27:27.035407Z"
    },
    "papermill": {
     "duration": 0.038587,
     "end_time": "2023-11-15T19:27:27.039875",
     "exception": false,
     "start_time": "2023-11-15T19:27:27.001288",
     "status": "completed"
    },
    "tags": []
   },
   "outputs": [
    {
     "data": {
      "text/html": [
       "<div>\n",
       "<style scoped>\n",
       "    .dataframe tbody tr th:only-of-type {\n",
       "        vertical-align: middle;\n",
       "    }\n",
       "\n",
       "    .dataframe tbody tr th {\n",
       "        vertical-align: top;\n",
       "    }\n",
       "\n",
       "    .dataframe thead th {\n",
       "        text-align: right;\n",
       "    }\n",
       "</style>\n",
       "<table border=\"1\" class=\"dataframe\">\n",
       "  <thead>\n",
       "    <tr style=\"text-align: right;\">\n",
       "      <th></th>\n",
       "      <th>Colunas</th>\n",
       "      <th>Tipos</th>\n",
       "      <th>Percentual_faltantes</th>\n",
       "    </tr>\n",
       "  </thead>\n",
       "  <tbody>\n",
       "    <tr>\n",
       "      <th>PassengerId</th>\n",
       "      <td>PassengerId</td>\n",
       "      <td>int64</td>\n",
       "      <td>0.000000</td>\n",
       "    </tr>\n",
       "    <tr>\n",
       "      <th>Pclass</th>\n",
       "      <td>Pclass</td>\n",
       "      <td>int64</td>\n",
       "      <td>0.000000</td>\n",
       "    </tr>\n",
       "    <tr>\n",
       "      <th>Name</th>\n",
       "      <td>Name</td>\n",
       "      <td>object</td>\n",
       "      <td>0.000000</td>\n",
       "    </tr>\n",
       "    <tr>\n",
       "      <th>Sex</th>\n",
       "      <td>Sex</td>\n",
       "      <td>object</td>\n",
       "      <td>0.000000</td>\n",
       "    </tr>\n",
       "    <tr>\n",
       "      <th>Age</th>\n",
       "      <td>Age</td>\n",
       "      <td>float64</td>\n",
       "      <td>0.205742</td>\n",
       "    </tr>\n",
       "    <tr>\n",
       "      <th>SibSp</th>\n",
       "      <td>SibSp</td>\n",
       "      <td>int64</td>\n",
       "      <td>0.000000</td>\n",
       "    </tr>\n",
       "    <tr>\n",
       "      <th>Parch</th>\n",
       "      <td>Parch</td>\n",
       "      <td>int64</td>\n",
       "      <td>0.000000</td>\n",
       "    </tr>\n",
       "    <tr>\n",
       "      <th>Ticket</th>\n",
       "      <td>Ticket</td>\n",
       "      <td>object</td>\n",
       "      <td>0.000000</td>\n",
       "    </tr>\n",
       "    <tr>\n",
       "      <th>Fare</th>\n",
       "      <td>Fare</td>\n",
       "      <td>float64</td>\n",
       "      <td>0.002392</td>\n",
       "    </tr>\n",
       "    <tr>\n",
       "      <th>Cabin</th>\n",
       "      <td>Cabin</td>\n",
       "      <td>object</td>\n",
       "      <td>0.782297</td>\n",
       "    </tr>\n",
       "    <tr>\n",
       "      <th>Embarked</th>\n",
       "      <td>Embarked</td>\n",
       "      <td>object</td>\n",
       "      <td>0.000000</td>\n",
       "    </tr>\n",
       "  </tbody>\n",
       "</table>\n",
       "</div>"
      ],
      "text/plain": [
       "                 Colunas    Tipos  Percentual_faltantes\n",
       "PassengerId  PassengerId    int64              0.000000\n",
       "Pclass            Pclass    int64              0.000000\n",
       "Name                Name   object              0.000000\n",
       "Sex                  Sex   object              0.000000\n",
       "Age                  Age  float64              0.205742\n",
       "SibSp              SibSp    int64              0.000000\n",
       "Parch              Parch    int64              0.000000\n",
       "Ticket            Ticket   object              0.000000\n",
       "Fare                Fare  float64              0.002392\n",
       "Cabin              Cabin   object              0.782297\n",
       "Embarked        Embarked   object              0.000000"
      ]
     },
     "execution_count": 7,
     "metadata": {},
     "output_type": "execute_result"
    }
   ],
   "source": [
    "aux_test = pd.DataFrame({'Colunas': test.columns,\n",
    "                       'Tipos': test.dtypes,\n",
    "                       'Percentual_faltantes': test.isna().sum() / test.shape[0]})\n",
    "aux_test"
   ]
  },
  {
   "cell_type": "markdown",
   "id": "97d73722",
   "metadata": {
    "papermill": {
     "duration": 0.013694,
     "end_time": "2023-11-15T19:27:27.067684",
     "exception": false,
     "start_time": "2023-11-15T19:27:27.053990",
     "status": "completed"
    },
    "tags": []
   },
   "source": [
    "**Conforme o output acima, percebe-se que Age, Cabin e Embarked possuem dados nulos em semelhantes proporções a Train (diferente de 0.0)**\n"
   ]
  },
  {
   "cell_type": "markdown",
   "id": "ad3f5117",
   "metadata": {
    "papermill": {
     "duration": 0.013427,
     "end_time": "2023-11-15T19:27:27.095197",
     "exception": false,
     "start_time": "2023-11-15T19:27:27.081770",
     "status": "completed"
    },
    "tags": []
   },
   "source": [
    "# Histograma das variáveis numéricas de TRAIN"
   ]
  },
  {
   "cell_type": "code",
   "execution_count": 8,
   "id": "2f8da63d",
   "metadata": {
    "execution": {
     "iopub.execute_input": "2023-11-15T19:27:27.125895Z",
     "iopub.status.busy": "2023-11-15T19:27:27.124584Z",
     "iopub.status.idle": "2023-11-15T19:27:29.087955Z",
     "shell.execute_reply": "2023-11-15T19:27:29.086712Z"
    },
    "papermill": {
     "duration": 1.981966,
     "end_time": "2023-11-15T19:27:29.091085",
     "exception": false,
     "start_time": "2023-11-15T19:27:27.109119",
     "status": "completed"
    },
    "tags": []
   },
   "outputs": [
    {
     "data": {
      "image/png": "[encoded data removed]",
      "text/plain": [
       "<Figure size 1200x800 with 9 Axes>"
      ]
     },
     "metadata": {},
     "output_type": "display_data"
    }
   ],
   "source": [
    "train.hist(figsize=(12,8));"
   ]
  },
  {
   "cell_type": "markdown",
   "id": "0b119ef2",
   "metadata": {
    "papermill": {
     "duration": 0.014785,
     "end_time": "2023-11-15T19:27:29.121098",
     "exception": false,
     "start_time": "2023-11-15T19:27:29.106313",
     "status": "completed"
    },
    "tags": []
   },
   "source": [
    "# Comparando sobrevivência entre SEXOS com base nos dados de TRAIN"
   ]
  },
  {
   "cell_type": "code",
   "execution_count": 9,
   "id": "ffbafa92",
   "metadata": {
    "execution": {
     "iopub.execute_input": "2023-11-15T19:27:29.154784Z",
     "iopub.status.busy": "2023-11-15T19:27:29.153816Z",
     "iopub.status.idle": "2023-11-15T19:27:29.168690Z",
     "shell.execute_reply": "2023-11-15T19:27:29.167486Z"
    },
    "papermill": {
     "duration": 0.034484,
     "end_time": "2023-11-15T19:27:29.171263",
     "exception": false,
     "start_time": "2023-11-15T19:27:29.136779",
     "status": "completed"
    },
    "tags": []
   },
   "outputs": [
    {
     "name": "stdout",
     "output_type": "stream",
     "text": [
      "% das mulheres das sobreviveram: 0.7420382165605095\n",
      "% dos homens que sobreviveram: 0.18890814558058924\n"
     ]
    }
   ],
   "source": [
    "female = train[train['Sex'] == 'female']['Survived']\n",
    "rate_fem = sum(female)/len(female)\n",
    "print('% das mulheres das sobreviveram: {}'.format(rate_fem))\n",
    "\n",
    "male = train[train['Sex'] == 'male']['Survived']\n",
    "rate_male = sum(male)/len(male)\n",
    "print('% dos homens que sobreviveram: {}'.format(rate_male))"
   ]
  },
  {
   "cell_type": "markdown",
   "id": "063aa8cd",
   "metadata": {
    "papermill": {
     "duration": 0.014788,
     "end_time": "2023-11-15T19:27:29.201846",
     "exception": false,
     "start_time": "2023-11-15T19:27:29.187058",
     "status": "completed"
    },
    "tags": []
   },
   "source": [
    "# Visualização da distribuição de Survived por Sex"
   ]
  },
  {
   "cell_type": "code",
   "execution_count": 10,
   "id": "532cc43e",
   "metadata": {
    "execution": {
     "iopub.execute_input": "2023-11-15T19:27:29.336827Z",
     "iopub.status.busy": "2023-11-15T19:27:29.336093Z",
     "iopub.status.idle": "2023-11-15T19:27:29.684027Z",
     "shell.execute_reply": "2023-11-15T19:27:29.682698Z"
    },
    "papermill": {
     "duration": 0.36783,
     "end_time": "2023-11-15T19:27:29.686793",
     "exception": false,
     "start_time": "2023-11-15T19:27:29.318963",
     "status": "completed"
    },
    "tags": []
   },
   "outputs": [
    {
     "data": {
      "image/png": "[encoded data removed]",
      "text/plain": [
       "<Figure size 640x480 with 1 Axes>"
      ]
     },
     "metadata": {},
     "output_type": "display_data"
    }
   ],
   "source": [
    "sns.barplot(x='Sex', y='Survived', data=train);"
   ]
  },
  {
   "cell_type": "markdown",
   "id": "53cf5826",
   "metadata": {
    "papermill": {
     "duration": 0.015212,
     "end_time": "2023-11-15T19:27:29.718258",
     "exception": false,
     "start_time": "2023-11-15T19:27:29.703046",
     "status": "completed"
    },
    "tags": []
   },
   "source": [
    "**Constata-se que as Mulheres haviam maior probabilidade de sobrevivência**"
   ]
  },
  {
   "cell_type": "markdown",
   "id": "ba3882e8",
   "metadata": {
    "papermill": {
     "duration": 0.015203,
     "end_time": "2023-11-15T19:27:29.748959",
     "exception": false,
     "start_time": "2023-11-15T19:27:29.733756",
     "status": "completed"
    },
    "tags": []
   },
   "source": [
    "# E a distribuição por Classes na embarcação?"
   ]
  },
  {
   "cell_type": "code",
   "execution_count": 11,
   "id": "378773bb",
   "metadata": {
    "execution": {
     "iopub.execute_input": "2023-11-15T19:27:29.783306Z",
     "iopub.status.busy": "2023-11-15T19:27:29.782785Z",
     "iopub.status.idle": "2023-11-15T19:27:30.171593Z",
     "shell.execute_reply": "2023-11-15T19:27:30.170324Z"
    },
    "papermill": {
     "duration": 0.409591,
     "end_time": "2023-11-15T19:27:30.174763",
     "exception": false,
     "start_time": "2023-11-15T19:27:29.765172",
     "status": "completed"
    },
    "tags": []
   },
   "outputs": [
    {
     "data": {
      "image/png": "[encoded data removed]",
      "text/plain": [
       "<Figure size 640x480 with 1 Axes>"
      ]
     },
     "metadata": {},
     "output_type": "display_data"
    }
   ],
   "source": [
    "sns.barplot(x='Pclass', y='Survived', data=train);"
   ]
  },
  {
   "cell_type": "markdown",
   "id": "1b65aa56",
   "metadata": {
    "papermill": {
     "duration": 0.015603,
     "end_time": "2023-11-15T19:27:30.206896",
     "exception": false,
     "start_time": "2023-11-15T19:27:30.191293",
     "status": "completed"
    },
    "tags": []
   },
   "source": [
    "**Constata-se, também, que a classe do embarcado contribuiu para maior ou menor chance de sobreviver ao disastre**"
   ]
  },
  {
   "cell_type": "markdown",
   "id": "126d0afb",
   "metadata": {
    "papermill": {
     "duration": 0.015602,
     "end_time": "2023-11-15T19:27:30.238330",
     "exception": false,
     "start_time": "2023-11-15T19:27:30.222728",
     "status": "completed"
    },
    "tags": []
   },
   "source": [
    "# Dropando variáveis categóricas de ambos Datasets"
   ]
  },
  {
   "cell_type": "code",
   "execution_count": 12,
   "id": "d01b6475",
   "metadata": {
    "execution": {
     "iopub.execute_input": "2023-11-15T19:27:30.273009Z",
     "iopub.status.busy": "2023-11-15T19:27:30.272026Z",
     "iopub.status.idle": "2023-11-15T19:27:30.285301Z",
     "shell.execute_reply": "2023-11-15T19:27:30.284003Z"
    },
    "papermill": {
     "duration": 0.034274,
     "end_time": "2023-11-15T19:27:30.288356",
     "exception": false,
     "start_time": "2023-11-15T19:27:30.254082",
     "status": "completed"
    },
    "tags": []
   },
   "outputs": [],
   "source": [
    "# Salvando a variável PassengerID\n",
    "\n",
    "passengerId = test['PassengerId']\n",
    "\n",
    "\n",
    "# Dropando as variáveis dos dois Datasets\n",
    "\n",
    "train.drop(['PassengerId', 'Name', 'Ticket', 'Cabin'], axis=1, inplace=True)\n",
    "test.drop(['PassengerId', 'Name', 'Ticket', 'Cabin'], axis=1, inplace=True)\n"
   ]
  },
  {
   "cell_type": "markdown",
   "id": "b94132d8",
   "metadata": {
    "papermill": {
     "duration": 0.016798,
     "end_time": "2023-11-15T19:27:30.321222",
     "exception": false,
     "start_time": "2023-11-15T19:27:30.304424",
     "status": "completed"
    },
    "tags": []
   },
   "source": [
    "# Tratando os Missing Values de TRAIN e TEST"
   ]
  },
  {
   "cell_type": "code",
   "execution_count": 13,
   "id": "62938eab",
   "metadata": {
    "execution": {
     "iopub.execute_input": "2023-11-15T19:27:30.356881Z",
     "iopub.status.busy": "2023-11-15T19:27:30.356364Z",
     "iopub.status.idle": "2023-11-15T19:27:30.374597Z",
     "shell.execute_reply": "2023-11-15T19:27:30.373535Z"
    },
    "papermill": {
     "duration": 0.039252,
     "end_time": "2023-11-15T19:27:30.377215",
     "exception": false,
     "start_time": "2023-11-15T19:27:30.337963",
     "status": "completed"
    },
    "tags": []
   },
   "outputs": [
    {
     "data": {
      "text/plain": [
       "array([ True,  True,  True,  True,  True,  True,  True])"
      ]
     },
     "execution_count": 13,
     "metadata": {},
     "output_type": "execute_result"
    }
   ],
   "source": [
    "# 'Age'\n",
    "\n",
    "train['Age'].fillna(train['Age'].median(), inplace=True)\n",
    "test['Age'].fillna(test['Age'].median(), inplace=True)\n",
    "\n",
    "\n",
    "# 'Fare'\n",
    "\n",
    "test['Fare'].fillna(test['Fare'].median(), inplace=True)\n",
    "\n",
    "\n",
    "# 'Embarked'\n",
    "\n",
    "train.dropna(axis=0, inplace=True)\n",
    "\n",
    "\n",
    "# Guardando a variável 'Suvived'\n",
    "\n",
    "target = train['Survived']\n",
    "\n",
    "\n",
    "# Tirando a variável do Datafram Train\n",
    "\n",
    "train.drop(['Survived'], axis=1, inplace=True)\n",
    "\n",
    "\n",
    "# Verificando se os Datasets possuem as mesmas features\n",
    "\n",
    "train.columns == test.columns"
   ]
  },
  {
   "cell_type": "markdown",
   "id": "f31f39ab",
   "metadata": {
    "papermill": {
     "duration": 0.016495,
     "end_time": "2023-11-15T19:27:30.410013",
     "exception": false,
     "start_time": "2023-11-15T19:27:30.393518",
     "status": "completed"
    },
    "tags": []
   },
   "source": [
    "# Modelando variáveis"
   ]
  },
  {
   "cell_type": "code",
   "execution_count": 14,
   "id": "3918dcfd",
   "metadata": {
    "execution": {
     "iopub.execute_input": "2023-11-15T19:27:30.444522Z",
     "iopub.status.busy": "2023-11-15T19:27:30.443528Z",
     "iopub.status.idle": "2023-11-15T19:27:30.655933Z",
     "shell.execute_reply": "2023-11-15T19:27:30.654487Z"
    },
    "papermill": {
     "duration": 0.233447,
     "end_time": "2023-11-15T19:27:30.659316",
     "exception": false,
     "start_time": "2023-11-15T19:27:30.425869",
     "status": "completed"
    },
    "tags": []
   },
   "outputs": [],
   "source": [
    "from sklearn.preprocessing import LabelEncoder"
   ]
  },
  {
   "cell_type": "code",
   "execution_count": 15,
   "id": "fd3922ab",
   "metadata": {
    "execution": {
     "iopub.execute_input": "2023-11-15T19:27:30.695840Z",
     "iopub.status.busy": "2023-11-15T19:27:30.695331Z",
     "iopub.status.idle": "2023-11-15T19:27:30.712568Z",
     "shell.execute_reply": "2023-11-15T19:27:30.711202Z"
    },
    "papermill": {
     "duration": 0.038319,
     "end_time": "2023-11-15T19:27:30.715429",
     "exception": false,
     "start_time": "2023-11-15T19:27:30.677110",
     "status": "completed"
    },
    "tags": []
   },
   "outputs": [],
   "source": [
    "# Utilizando o LabelEncoder\n",
    "\n",
    "# Dataset train\n",
    "\n",
    "train['Sex'] = train[['Sex']].apply(LabelEncoder().fit_transform)\n",
    "train['Embarked'] = train[['Embarked']].apply(LabelEncoder().fit_transform)\n",
    "\n",
    "# Dataset test\n",
    "\n",
    "test['Sex'] = test[['Sex']].apply(LabelEncoder().fit_transform)\n",
    "test['Embarked'] = test[['Embarked']].apply(LabelEncoder().fit_transform)"
   ]
  },
  {
   "cell_type": "code",
   "execution_count": 16,
   "id": "ebf3916e",
   "metadata": {
    "execution": {
     "iopub.execute_input": "2023-11-15T19:27:30.752138Z",
     "iopub.status.busy": "2023-11-15T19:27:30.750914Z",
     "iopub.status.idle": "2023-11-15T19:27:30.766436Z",
     "shell.execute_reply": "2023-11-15T19:27:30.765202Z"
    },
    "papermill": {
     "duration": 0.036275,
     "end_time": "2023-11-15T19:27:30.769014",
     "exception": false,
     "start_time": "2023-11-15T19:27:30.732739",
     "status": "completed"
    },
    "tags": []
   },
   "outputs": [
    {
     "data": {
      "text/html": [
       "<div>\n",
       "<style scoped>\n",
       "    .dataframe tbody tr th:only-of-type {\n",
       "        vertical-align: middle;\n",
       "    }\n",
       "\n",
       "    .dataframe tbody tr th {\n",
       "        vertical-align: top;\n",
       "    }\n",
       "\n",
       "    .dataframe thead th {\n",
       "        text-align: right;\n",
       "    }\n",
       "</style>\n",
       "<table border=\"1\" class=\"dataframe\">\n",
       "  <thead>\n",
       "    <tr style=\"text-align: right;\">\n",
       "      <th></th>\n",
       "      <th>Pclass</th>\n",
       "      <th>Sex</th>\n",
       "      <th>Age</th>\n",
       "      <th>SibSp</th>\n",
       "      <th>Parch</th>\n",
       "      <th>Fare</th>\n",
       "      <th>Embarked</th>\n",
       "    </tr>\n",
       "  </thead>\n",
       "  <tbody>\n",
       "    <tr>\n",
       "      <th>0</th>\n",
       "      <td>3</td>\n",
       "      <td>1</td>\n",
       "      <td>22.0</td>\n",
       "      <td>1</td>\n",
       "      <td>0</td>\n",
       "      <td>7.2500</td>\n",
       "      <td>2</td>\n",
       "    </tr>\n",
       "    <tr>\n",
       "      <th>1</th>\n",
       "      <td>1</td>\n",
       "      <td>0</td>\n",
       "      <td>38.0</td>\n",
       "      <td>1</td>\n",
       "      <td>0</td>\n",
       "      <td>71.2833</td>\n",
       "      <td>0</td>\n",
       "    </tr>\n",
       "    <tr>\n",
       "      <th>2</th>\n",
       "      <td>3</td>\n",
       "      <td>0</td>\n",
       "      <td>26.0</td>\n",
       "      <td>0</td>\n",
       "      <td>0</td>\n",
       "      <td>7.9250</td>\n",
       "      <td>2</td>\n",
       "    </tr>\n",
       "    <tr>\n",
       "      <th>3</th>\n",
       "      <td>1</td>\n",
       "      <td>0</td>\n",
       "      <td>35.0</td>\n",
       "      <td>1</td>\n",
       "      <td>0</td>\n",
       "      <td>53.1000</td>\n",
       "      <td>2</td>\n",
       "    </tr>\n",
       "    <tr>\n",
       "      <th>4</th>\n",
       "      <td>3</td>\n",
       "      <td>1</td>\n",
       "      <td>35.0</td>\n",
       "      <td>0</td>\n",
       "      <td>0</td>\n",
       "      <td>8.0500</td>\n",
       "      <td>2</td>\n",
       "    </tr>\n",
       "  </tbody>\n",
       "</table>\n",
       "</div>"
      ],
      "text/plain": [
       "   Pclass  Sex   Age  SibSp  Parch     Fare  Embarked\n",
       "0       3    1  22.0      1      0   7.2500         2\n",
       "1       1    0  38.0      1      0  71.2833         0\n",
       "2       3    0  26.0      0      0   7.9250         2\n",
       "3       1    0  35.0      1      0  53.1000         2\n",
       "4       3    1  35.0      0      0   8.0500         2"
      ]
     },
     "execution_count": 16,
     "metadata": {},
     "output_type": "execute_result"
    }
   ],
   "source": [
    "train.head()"
   ]
  },
  {
   "cell_type": "code",
   "execution_count": 17,
   "id": "14b86ea1",
   "metadata": {
    "execution": {
     "iopub.execute_input": "2023-11-15T19:27:30.805528Z",
     "iopub.status.busy": "2023-11-15T19:27:30.805070Z",
     "iopub.status.idle": "2023-11-15T19:27:30.820714Z",
     "shell.execute_reply": "2023-11-15T19:27:30.819494Z"
    },
    "papermill": {
     "duration": 0.037044,
     "end_time": "2023-11-15T19:27:30.823132",
     "exception": false,
     "start_time": "2023-11-15T19:27:30.786088",
     "status": "completed"
    },
    "tags": []
   },
   "outputs": [
    {
     "data": {
      "text/html": [
       "<div>\n",
       "<style scoped>\n",
       "    .dataframe tbody tr th:only-of-type {\n",
       "        vertical-align: middle;\n",
       "    }\n",
       "\n",
       "    .dataframe tbody tr th {\n",
       "        vertical-align: top;\n",
       "    }\n",
       "\n",
       "    .dataframe thead th {\n",
       "        text-align: right;\n",
       "    }\n",
       "</style>\n",
       "<table border=\"1\" class=\"dataframe\">\n",
       "  <thead>\n",
       "    <tr style=\"text-align: right;\">\n",
       "      <th></th>\n",
       "      <th>Pclass</th>\n",
       "      <th>Sex</th>\n",
       "      <th>Age</th>\n",
       "      <th>SibSp</th>\n",
       "      <th>Parch</th>\n",
       "      <th>Fare</th>\n",
       "      <th>Embarked</th>\n",
       "    </tr>\n",
       "  </thead>\n",
       "  <tbody>\n",
       "    <tr>\n",
       "      <th>0</th>\n",
       "      <td>3</td>\n",
       "      <td>1</td>\n",
       "      <td>34.5</td>\n",
       "      <td>0</td>\n",
       "      <td>0</td>\n",
       "      <td>7.8292</td>\n",
       "      <td>1</td>\n",
       "    </tr>\n",
       "    <tr>\n",
       "      <th>1</th>\n",
       "      <td>3</td>\n",
       "      <td>0</td>\n",
       "      <td>47.0</td>\n",
       "      <td>1</td>\n",
       "      <td>0</td>\n",
       "      <td>7.0000</td>\n",
       "      <td>2</td>\n",
       "    </tr>\n",
       "    <tr>\n",
       "      <th>2</th>\n",
       "      <td>2</td>\n",
       "      <td>1</td>\n",
       "      <td>62.0</td>\n",
       "      <td>0</td>\n",
       "      <td>0</td>\n",
       "      <td>9.6875</td>\n",
       "      <td>1</td>\n",
       "    </tr>\n",
       "    <tr>\n",
       "      <th>3</th>\n",
       "      <td>3</td>\n",
       "      <td>1</td>\n",
       "      <td>27.0</td>\n",
       "      <td>0</td>\n",
       "      <td>0</td>\n",
       "      <td>8.6625</td>\n",
       "      <td>2</td>\n",
       "    </tr>\n",
       "    <tr>\n",
       "      <th>4</th>\n",
       "      <td>3</td>\n",
       "      <td>0</td>\n",
       "      <td>22.0</td>\n",
       "      <td>1</td>\n",
       "      <td>1</td>\n",
       "      <td>12.2875</td>\n",
       "      <td>2</td>\n",
       "    </tr>\n",
       "  </tbody>\n",
       "</table>\n",
       "</div>"
      ],
      "text/plain": [
       "   Pclass  Sex   Age  SibSp  Parch     Fare  Embarked\n",
       "0       3    1  34.5      0      0   7.8292         1\n",
       "1       3    0  47.0      1      0   7.0000         2\n",
       "2       2    1  62.0      0      0   9.6875         1\n",
       "3       3    1  27.0      0      0   8.6625         2\n",
       "4       3    0  22.0      1      1  12.2875         2"
      ]
     },
     "execution_count": 17,
     "metadata": {},
     "output_type": "execute_result"
    }
   ],
   "source": [
    "test.head()"
   ]
  },
  {
   "cell_type": "markdown",
   "id": "2de07bce",
   "metadata": {
    "papermill": {
     "duration": 0.017002,
     "end_time": "2023-11-15T19:27:30.857474",
     "exception": false,
     "start_time": "2023-11-15T19:27:30.840472",
     "status": "completed"
    },
    "tags": []
   },
   "source": [
    "# Criando o Modelo - Regressão Logística"
   ]
  },
  {
   "cell_type": "code",
   "execution_count": 18,
   "id": "bae05e01",
   "metadata": {
    "execution": {
     "iopub.execute_input": "2023-11-15T19:27:30.894600Z",
     "iopub.status.busy": "2023-11-15T19:27:30.893560Z",
     "iopub.status.idle": "2023-11-15T19:27:31.151743Z",
     "shell.execute_reply": "2023-11-15T19:27:31.150309Z"
    },
    "papermill": {
     "duration": 0.280327,
     "end_time": "2023-11-15T19:27:31.154898",
     "exception": false,
     "start_time": "2023-11-15T19:27:30.874571",
     "status": "completed"
    },
    "tags": []
   },
   "outputs": [],
   "source": [
    "# Importando a biblioteca do Modelo de Machine Learning\n",
    "\n",
    "from sklearn.linear_model import LogisticRegression"
   ]
  },
  {
   "cell_type": "code",
   "execution_count": 19,
   "id": "415a0bca",
   "metadata": {
    "execution": {
     "iopub.execute_input": "2023-11-15T19:27:31.190457Z",
     "iopub.status.busy": "2023-11-15T19:27:31.189942Z",
     "iopub.status.idle": "2023-11-15T19:27:31.213686Z",
     "shell.execute_reply": "2023-11-15T19:27:31.212495Z"
    },
    "papermill": {
     "duration": 0.04447,
     "end_time": "2023-11-15T19:27:31.216366",
     "exception": false,
     "start_time": "2023-11-15T19:27:31.171896",
     "status": "completed"
    },
    "tags": []
   },
   "outputs": [
    {
     "data": {
      "text/html": [
       "<style>#sk-container-id-1 {color: black;background-color: white;}#sk-container-id-1 pre{padding: 0;}#sk-container-id-1 div.sk-toggleable {background-color: white;}#sk-container-id-1 label.sk-toggleable__label {cursor: pointer;display: block;width: 100%;margin-bottom: 0;padding: 0.3em;box-sizing: border-box;text-align: center;}#sk-container-id-1 label.sk-toggleable__label-arrow:before {content: \"▸\";float: left;margin-right: 0.25em;color: #696969;}#sk-container-id-1 label.sk-toggleable__label-arrow:hover:before {color: black;}#sk-container-id-1 div.sk-estimator:hover label.sk-toggleable__label-arrow:before {color: black;}#sk-container-id-1 div.sk-toggleable__content {max-height: 0;max-width: 0;overflow: hidden;text-align: left;background-color: #f0f8ff;}#sk-container-id-1 div.sk-toggleable__content pre {margin: 0.2em;color: black;border-radius: 0.25em;background-color: #f0f8ff;}#sk-container-id-1 input.sk-toggleable__control:checked~div.sk-toggleable__content {max-height: 200px;max-width: 100%;overflow: auto;}#sk-container-id-1 input.sk-toggleable__control:checked~label.sk-toggleable__label-arrow:before {content: \"▾\";}#sk-container-id-1 div.sk-estimator input.sk-toggleable__control:checked~label.sk-toggleable__label {background-color: #d4ebff;}#sk-container-id-1 div.sk-label input.sk-toggleable__control:checked~label.sk-toggleable__label {background-color: #d4ebff;}#sk-container-id-1 input.sk-hidden--visually {border: 0;clip: rect(1px 1px 1px 1px);clip: rect(1px, 1px, 1px, 1px);height: 1px;margin: -1px;overflow: hidden;padding: 0;position: absolute;width: 1px;}#sk-container-id-1 div.sk-estimator {font-family: monospace;background-color: #f0f8ff;border: 1px dotted black;border-radius: 0.25em;box-sizing: border-box;margin-bottom: 0.5em;}#sk-container-id-1 div.sk-estimator:hover {background-color: #d4ebff;}#sk-container-id-1 div.sk-parallel-item::after {content: \"\";width: 100%;border-bottom: 1px solid gray;flex-grow: 1;}#sk-container-id-1 div.sk-label:hover label.sk-toggleable__label {background-color: #d4ebff;}#sk-container-id-1 div.sk-serial::before {content: \"\";position: absolute;border-left: 1px solid gray;box-sizing: border-box;top: 0;bottom: 0;left: 50%;z-index: 0;}#sk-container-id-1 div.sk-serial {display: flex;flex-direction: column;align-items: center;background-color: white;padding-right: 0.2em;padding-left: 0.2em;position: relative;}#sk-container-id-1 div.sk-item {position: relative;z-index: 1;}#sk-container-id-1 div.sk-parallel {display: flex;align-items: stretch;justify-content: center;background-color: white;position: relative;}#sk-container-id-1 div.sk-item::before, #sk-container-id-1 div.sk-parallel-item::before {content: \"\";position: absolute;border-left: 1px solid gray;box-sizing: border-box;top: 0;bottom: 0;left: 50%;z-index: -1;}#sk-container-id-1 div.sk-parallel-item {display: flex;flex-direction: column;z-index: 1;position: relative;background-color: white;}#sk-container-id-1 div.sk-parallel-item:first-child::after {align-self: flex-end;width: 50%;}#sk-container-id-1 div.sk-parallel-item:last-child::after {align-self: flex-start;width: 50%;}#sk-container-id-1 div.sk-parallel-item:only-child::after {width: 0;}#sk-container-id-1 div.sk-dashed-wrapped {border: 1px dashed gray;margin: 0 0.4em 0.5em 0.4em;box-sizing: border-box;padding-bottom: 0.4em;background-color: white;}#sk-container-id-1 div.sk-label label {font-family: monospace;font-weight: bold;display: inline-block;line-height: 1.2em;}#sk-container-id-1 div.sk-label-container {text-align: center;}#sk-container-id-1 div.sk-container {/* jupyter's `normalize.less` sets `[hidden] { display: none; }` but bootstrap.min.css set `[hidden] { display: none !important; }` so we also need the `!important` here to be able to override the default hidden behavior on the sphinx rendered scikit-learn.org. See: https://github.com/scikit-learn/scikit-learn/issues/21755 */display: inline-block !important;position: relative;}#sk-container-id-1 div.sk-text-repr-fallback {display: none;}</style><div id=\"sk-container-id-1\" class=\"sk-top-container\"><div class=\"sk-text-repr-fallback\"><pre>LogisticRegression(solver=&#x27;liblinear&#x27;)</pre><b>In a Jupyter environment, please rerun this cell to show the HTML representation or trust the notebook. <br />On GitHub, the HTML representation is unable to render, please try loading this page with nbviewer.org.</b></div><div class=\"sk-container\" hidden><div class=\"sk-item\"><div class=\"sk-estimator sk-toggleable\"><input class=\"sk-toggleable__control sk-hidden--visually\" id=\"sk-estimator-id-1\" type=\"checkbox\" checked><label for=\"sk-estimator-id-1\" class=\"sk-toggleable__label sk-toggleable__label-arrow\">LogisticRegression</label><div class=\"sk-toggleable__content\"><pre>LogisticRegression(solver=&#x27;liblinear&#x27;)</pre></div></div></div></div></div>"
      ],
      "text/plain": [
       "LogisticRegression(solver='liblinear')"
      ]
     },
     "execution_count": 19,
     "metadata": {},
     "output_type": "execute_result"
    }
   ],
   "source": [
    "# Criando o Modelo de Rl\n",
    "\n",
    "lr_model = LogisticRegression(solver='liblinear')\n",
    "lr_model.fit(train, target)"
   ]
  },
  {
   "cell_type": "code",
   "execution_count": 20,
   "id": "4fd8de51",
   "metadata": {
    "execution": {
     "iopub.execute_input": "2023-11-15T19:27:31.253140Z",
     "iopub.status.busy": "2023-11-15T19:27:31.251857Z",
     "iopub.status.idle": "2023-11-15T19:27:31.263361Z",
     "shell.execute_reply": "2023-11-15T19:27:31.262159Z"
    },
    "papermill": {
     "duration": 0.032703,
     "end_time": "2023-11-15T19:27:31.265967",
     "exception": false,
     "start_time": "2023-11-15T19:27:31.233264",
     "status": "completed"
    },
    "tags": []
   },
   "outputs": [
    {
     "name": "stdout",
     "output_type": "stream",
     "text": [
      "Acurácia do Modelo de Regression Logistic: 80.31\n"
     ]
    }
   ],
   "source": [
    "ac_lr = round(lr_model.score(train, target) * 100, 2)\n",
    "print(\"Acurácia do Modelo de Regression Logistic: {}\". format(ac_lr))"
   ]
  },
  {
   "cell_type": "markdown",
   "id": "8ef53b78",
   "metadata": {
    "papermill": {
     "duration": 0.016897,
     "end_time": "2023-11-15T19:27:31.300084",
     "exception": false,
     "start_time": "2023-11-15T19:27:31.283187",
     "status": "completed"
    },
    "tags": []
   },
   "source": [
    "# Arquivo CSV do Modelo de Predição - Regressão Logística"
   ]
  },
  {
   "cell_type": "code",
   "execution_count": 21,
   "id": "c5c25312",
   "metadata": {
    "execution": {
     "iopub.execute_input": "2023-11-15T19:27:31.337781Z",
     "iopub.status.busy": "2023-11-15T19:27:31.336440Z",
     "iopub.status.idle": "2023-11-15T19:27:31.351781Z",
     "shell.execute_reply": "2023-11-15T19:27:31.350345Z"
    },
    "papermill": {
     "duration": 0.038013,
     "end_time": "2023-11-15T19:27:31.355071",
     "exception": false,
     "start_time": "2023-11-15T19:27:31.317058",
     "status": "completed"
    },
    "tags": []
   },
   "outputs": [],
   "source": [
    "y_pred_lr = lr_model.predict(test)\n",
    "\n",
    "submission = pd.DataFrame({\"PassengerId\": passengerId,\n",
    "                           \"Survived\": y_pred_lr})\n",
    "\n",
    "# Gerando o arquivo\n",
    "\n",
    "submission.to_csv('regressao_logistica.csv', index=False)"
   ]
  },
  {
   "cell_type": "markdown",
   "id": "913b67f7",
   "metadata": {
    "papermill": {
     "duration": 0.017439,
     "end_time": "2023-11-15T19:27:31.390801",
     "exception": false,
     "start_time": "2023-11-15T19:27:31.373362",
     "status": "completed"
    },
    "tags": []
   },
   "source": [
    "# Criando o Modelo - Random Forest"
   ]
  },
  {
   "cell_type": "code",
   "execution_count": 22,
   "id": "4d04a1c8",
   "metadata": {
    "execution": {
     "iopub.execute_input": "2023-11-15T19:27:31.427964Z",
     "iopub.status.busy": "2023-11-15T19:27:31.426559Z",
     "iopub.status.idle": "2023-11-15T19:27:31.634034Z",
     "shell.execute_reply": "2023-11-15T19:27:31.632843Z"
    },
    "papermill": {
     "duration": 0.22924,
     "end_time": "2023-11-15T19:27:31.637256",
     "exception": false,
     "start_time": "2023-11-15T19:27:31.408016",
     "status": "completed"
    },
    "tags": []
   },
   "outputs": [],
   "source": [
    "from sklearn.ensemble import RandomForestClassifier"
   ]
  },
  {
   "cell_type": "code",
   "execution_count": 23,
   "id": "6401b8bd",
   "metadata": {
    "execution": {
     "iopub.execute_input": "2023-11-15T19:27:31.675877Z",
     "iopub.status.busy": "2023-11-15T19:27:31.675360Z",
     "iopub.status.idle": "2023-11-15T19:27:31.946825Z",
     "shell.execute_reply": "2023-11-15T19:27:31.945572Z"
    },
    "papermill": {
     "duration": 0.294416,
     "end_time": "2023-11-15T19:27:31.949723",
     "exception": false,
     "start_time": "2023-11-15T19:27:31.655307",
     "status": "completed"
    },
    "tags": []
   },
   "outputs": [
    {
     "data": {
      "text/html": [
       "<style>#sk-container-id-2 {color: black;background-color: white;}#sk-container-id-2 pre{padding: 0;}#sk-container-id-2 div.sk-toggleable {background-color: white;}#sk-container-id-2 label.sk-toggleable__label {cursor: pointer;display: block;width: 100%;margin-bottom: 0;padding: 0.3em;box-sizing: border-box;text-align: center;}#sk-container-id-2 label.sk-toggleable__label-arrow:before {content: \"▸\";float: left;margin-right: 0.25em;color: #696969;}#sk-container-id-2 label.sk-toggleable__label-arrow:hover:before {color: black;}#sk-container-id-2 div.sk-estimator:hover label.sk-toggleable__label-arrow:before {color: black;}#sk-container-id-2 div.sk-toggleable__content {max-height: 0;max-width: 0;overflow: hidden;text-align: left;background-color: #f0f8ff;}#sk-container-id-2 div.sk-toggleable__content pre {margin: 0.2em;color: black;border-radius: 0.25em;background-color: #f0f8ff;}#sk-container-id-2 input.sk-toggleable__control:checked~div.sk-toggleable__content {max-height: 200px;max-width: 100%;overflow: auto;}#sk-container-id-2 input.sk-toggleable__control:checked~label.sk-toggleable__label-arrow:before {content: \"▾\";}#sk-container-id-2 div.sk-estimator input.sk-toggleable__control:checked~label.sk-toggleable__label {background-color: #d4ebff;}#sk-container-id-2 div.sk-label input.sk-toggleable__control:checked~label.sk-toggleable__label {background-color: #d4ebff;}#sk-container-id-2 input.sk-hidden--visually {border: 0;clip: rect(1px 1px 1px 1px);clip: rect(1px, 1px, 1px, 1px);height: 1px;margin: -1px;overflow: hidden;padding: 0;position: absolute;width: 1px;}#sk-container-id-2 div.sk-estimator {font-family: monospace;background-color: #f0f8ff;border: 1px dotted black;border-radius: 0.25em;box-sizing: border-box;margin-bottom: 0.5em;}#sk-container-id-2 div.sk-estimator:hover {background-color: #d4ebff;}#sk-container-id-2 div.sk-parallel-item::after {content: \"\";width: 100%;border-bottom: 1px solid gray;flex-grow: 1;}#sk-container-id-2 div.sk-label:hover label.sk-toggleable__label {background-color: #d4ebff;}#sk-container-id-2 div.sk-serial::before {content: \"\";position: absolute;border-left: 1px solid gray;box-sizing: border-box;top: 0;bottom: 0;left: 50%;z-index: 0;}#sk-container-id-2 div.sk-serial {display: flex;flex-direction: column;align-items: center;background-color: white;padding-right: 0.2em;padding-left: 0.2em;position: relative;}#sk-container-id-2 div.sk-item {position: relative;z-index: 1;}#sk-container-id-2 div.sk-parallel {display: flex;align-items: stretch;justify-content: center;background-color: white;position: relative;}#sk-container-id-2 div.sk-item::before, #sk-container-id-2 div.sk-parallel-item::before {content: \"\";position: absolute;border-left: 1px solid gray;box-sizing: border-box;top: 0;bottom: 0;left: 50%;z-index: -1;}#sk-container-id-2 div.sk-parallel-item {display: flex;flex-direction: column;z-index: 1;position: relative;background-color: white;}#sk-container-id-2 div.sk-parallel-item:first-child::after {align-self: flex-end;width: 50%;}#sk-container-id-2 div.sk-parallel-item:last-child::after {align-self: flex-start;width: 50%;}#sk-container-id-2 div.sk-parallel-item:only-child::after {width: 0;}#sk-container-id-2 div.sk-dashed-wrapped {border: 1px dashed gray;margin: 0 0.4em 0.5em 0.4em;box-sizing: border-box;padding-bottom: 0.4em;background-color: white;}#sk-container-id-2 div.sk-label label {font-family: monospace;font-weight: bold;display: inline-block;line-height: 1.2em;}#sk-container-id-2 div.sk-label-container {text-align: center;}#sk-container-id-2 div.sk-container {/* jupyter's `normalize.less` sets `[hidden] { display: none; }` but bootstrap.min.css set `[hidden] { display: none !important; }` so we also need the `!important` here to be able to override the default hidden behavior on the sphinx rendered scikit-learn.org. See: https://github.com/scikit-learn/scikit-learn/issues/21755 */display: inline-block !important;position: relative;}#sk-container-id-2 div.sk-text-repr-fallback {display: none;}</style><div id=\"sk-container-id-2\" class=\"sk-top-container\"><div class=\"sk-text-repr-fallback\"><pre>RandomForestClassifier(max_depth=5, random_state=1)</pre><b>In a Jupyter environment, please rerun this cell to show the HTML representation or trust the notebook. <br />On GitHub, the HTML representation is unable to render, please try loading this page with nbviewer.org.</b></div><div class=\"sk-container\" hidden><div class=\"sk-item\"><div class=\"sk-estimator sk-toggleable\"><input class=\"sk-toggleable__control sk-hidden--visually\" id=\"sk-estimator-id-2\" type=\"checkbox\" checked><label for=\"sk-estimator-id-2\" class=\"sk-toggleable__label sk-toggleable__label-arrow\">RandomForestClassifier</label><div class=\"sk-toggleable__content\"><pre>RandomForestClassifier(max_depth=5, random_state=1)</pre></div></div></div></div></div>"
      ],
      "text/plain": [
       "RandomForestClassifier(max_depth=5, random_state=1)"
      ]
     },
     "execution_count": 23,
     "metadata": {},
     "output_type": "execute_result"
    }
   ],
   "source": [
    "rf_model = RandomForestClassifier(n_estimators=100, max_depth=5, random_state=1)\n",
    "rf_model.fit(train, target)"
   ]
  },
  {
   "cell_type": "code",
   "execution_count": 24,
   "id": "211df1f3",
   "metadata": {
    "execution": {
     "iopub.execute_input": "2023-11-15T19:27:31.986534Z",
     "iopub.status.busy": "2023-11-15T19:27:31.986057Z",
     "iopub.status.idle": "2023-11-15T19:27:32.014279Z",
     "shell.execute_reply": "2023-11-15T19:27:32.012828Z"
    },
    "papermill": {
     "duration": 0.049847,
     "end_time": "2023-11-15T19:27:32.016929",
     "exception": false,
     "start_time": "2023-11-15T19:27:31.967082",
     "status": "completed"
    },
    "tags": []
   },
   "outputs": [
    {
     "name": "stdout",
     "output_type": "stream",
     "text": [
      "Acurácia do Modelo de RandomForestClassifier: 85.15\n"
     ]
    }
   ],
   "source": [
    "ac_rf = round(rf_model.score(train, target) * 100, 2)\n",
    "print(\"Acurácia do Modelo de RandomForestClassifier: {}\". format(ac_rf))"
   ]
  },
  {
   "cell_type": "markdown",
   "id": "9275f7f1",
   "metadata": {
    "papermill": {
     "duration": 0.017273,
     "end_time": "2023-11-15T19:27:32.051695",
     "exception": false,
     "start_time": "2023-11-15T19:27:32.034422",
     "status": "completed"
    },
    "tags": []
   },
   "source": [
    "# # Arquivo CSV do Modelo de Predição - Random Forest"
   ]
  },
  {
   "cell_type": "code",
   "execution_count": 25,
   "id": "e2910e6e",
   "metadata": {
    "execution": {
     "iopub.execute_input": "2023-11-15T19:27:32.089429Z",
     "iopub.status.busy": "2023-11-15T19:27:32.088825Z",
     "iopub.status.idle": "2023-11-15T19:27:32.113589Z",
     "shell.execute_reply": "2023-11-15T19:27:32.112107Z"
    },
    "papermill": {
     "duration": 0.047229,
     "end_time": "2023-11-15T19:27:32.117125",
     "exception": false,
     "start_time": "2023-11-15T19:27:32.069896",
     "status": "completed"
    },
    "tags": []
   },
   "outputs": [],
   "source": [
    "y_pred_rf = rf_model.predict(test)\n",
    "\n",
    "submission = pd.DataFrame({\"PassengerId\": passengerId,\n",
    "                           \"Survived\": y_pred_rf})\n",
    "\n",
    "# Gerando o arquivo\n",
    "\n",
    "submission.to_csv('random_forest.csv', index=False)"
   ]
  }
 ],
 "metadata": {
  "kaggle": {
   "accelerator": "none",
   "dataSources": [
    {
     "databundleVersionId": 26502,
     "sourceId": 3136,
     "sourceType": "competition"
    }
   ],
   "dockerImageVersionId": 30579,
   "isGpuEnabled": false,
   "isInternetEnabled": true,
   "language": "python",
   "sourceType": "notebook"
  },
  "kernelspec": {
   "display_name": "Python 3",
   "language": "python",
   "name": "python3"
  },
  "language_info": {
   "codemirror_mode": {
    "name": "ipython",
    "version": 3
   },
   "file_extension": ".py",
   "mimetype": "text/x-python",
   "name": "python",
   "nbconvert_exporter": "python",
   "pygments_lexer": "ipython3",
   "version": "3.10.12"
  },
  "papermill": {
   "default_parameters": {},
   "duration": 13.614404,
   "end_time": "2023-11-15T19:27:33.059688",
   "environment_variables": {},
   "exception": null,
   "input_path": "__notebook__.ipynb",
   "output_path": "__notebook__.ipynb",
   "parameters": {},
   "start_time": "2023-11-15T19:27:19.445284",
   "version": "2.4.0"
  }
 },
 "nbformat": 4,
 "nbformat_minor": 5
}
